{
 "cells": [
  {
   "cell_type": "code",
   "execution_count": 2,
   "id": "cdcc2684",
   "metadata": {},
   "outputs": [],
   "source": [
    "import pandas as pd\n",
    "from sklearn.model_selection import train_test_split\n",
    "from sklearn.preprocessing import StandardScaler\n",
    "from sklearn.svm import SVC\n",
    "from sklearn.metrics import accuracy_score, precision_score, recall_score, f1_score\n",
    "\n"
   ]
  },
  {
   "cell_type": "code",
   "execution_count": 4,
   "id": "71b3c79c",
   "metadata": {},
   "outputs": [],
   "source": [
    "data = pd.read_csv(r\"C:\\Users\\ragam\\Downloads\\Titanic-Dataset.csv\")"
   ]
  },
  {
   "cell_type": "code",
   "execution_count": 5,
   "id": "8ed8ae44",
   "metadata": {},
   "outputs": [],
   "source": [
    "# Fill missing values for 'Age','Embarked'\n",
    "data['Age'].fillna(data['Age'].median(), inplace=True)\n",
    "data['Embarked'].fillna(data['Embarked'].mode()[0], inplace=True)\n"
   ]
  },
  {
   "cell_type": "code",
   "execution_count": 6,
   "id": "3dc96ec3",
   "metadata": {},
   "outputs": [],
   "source": [
    "# Drop the 'Cabin' column due to many missing values\n",
    "data.drop(columns=['Cabin'], inplace=True)"
   ]
  },
  {
   "cell_type": "code",
   "execution_count": 7,
   "id": "8531338b",
   "metadata": {},
   "outputs": [],
   "source": [
    "# Convert 'Sex' to numerical values: male -> 0, female -> 1\n",
    "data['Sex'] = data['Sex'].map({'male': 0, 'female': 1})\n",
    "\n",
    "# Convert 'Embarked' using one-hot encoding\n",
    "data = pd.get_dummies(data, columns=['Embarked'], drop_first=True)\n"
   ]
  },
  {
   "cell_type": "code",
   "execution_count": 8,
   "id": "5707194c",
   "metadata": {},
   "outputs": [],
   "source": [
    "# Define features and target variable\n",
    "X = data.drop(columns=['Survived', 'Name', 'Ticket', 'PassengerId'])\n",
    "y = data['Survived']\n",
    "\n",
    "# Split the data into training and testing sets\n",
    "X_train, X_test, y_train, y_test = train_test_split(X, y, test_size=0.2, random_state=42)\n",
    "scaler = StandardScaler()\n",
    "X_train = scaler.fit_transform(X_train)\n",
    "X_test = scaler.transform(X_test)\n"
   ]
  },
  {
   "cell_type": "code",
   "execution_count": 9,
   "id": "c0972026",
   "metadata": {},
   "outputs": [
    {
     "name": "stdout",
     "output_type": "stream",
     "text": [
      "Model Accuracy: 0.82\n",
      "Model Precision: 0.84\n",
      "Model Recall: 0.70\n",
      "Model F1 Score: 0.76\n"
     ]
    }
   ],
   "source": [
    "# Train an SVM model\n",
    "svm_model = SVC()\n",
    "svm_model.fit(X_train, y_train)\n",
    "\n",
    "# Evaluate the model\n",
    "y_pred = svm_model.predict(X_test)\n",
    "accuracy = accuracy_score(y_test, y_pred)\n",
    "precision = precision_score(y_test, y_pred)\n",
    "recall = recall_score(y_test, y_pred)\n",
    "f1 = f1_score(y_test, y_pred)\n",
    "\n",
    "print(f\"Model Accuracy: {accuracy:.2f}\")\n",
    "print(f\"Model Precision: {precision:.2f}\")\n",
    "print(f\"Model Recall: {recall:.2f}\")\n",
    "print(f\"Model F1 Score: {f1:.2f}\")\n"
   ]
  },
  {
   "cell_type": "code",
   "execution_count": 13,
   "id": "97e8087f",
   "metadata": {},
   "outputs": [
    {
     "name": "stdout",
     "output_type": "stream",
     "text": [
      "Enter Pclass (1, 2, or 3): 3\n",
      "Enter Sex (male or female): female\n",
      "Enter Age: 35\n",
      "Enter number of siblings/spouses aboard: 2\n",
      "Enter number of parents/children aboard: 1\n",
      "Enter Fare: 55.2\n",
      "Enter Embarked (C, Q, or S): S\n",
      "Survived\n"
     ]
    }
   ],
   "source": [
    "# Function to preprocess and predict survival of a new passenger\n",
    "def predict_survival(new_passenger):\n",
    "    new_passenger_df = pd.DataFrame([new_passenger])\n",
    "    new_passenger_df['Sex'] = new_passenger_df['Sex'].map({'male': 0, 'female': 1})\n",
    "    new_passenger_df = pd.get_dummies(new_passenger_df, columns=['Embarked'], drop_first=True)\n",
    "    for col in X.columns:\n",
    "        if col not in new_passenger_df.columns:\n",
    "            new_passenger_df[col] = 0\n",
    "    new_passenger_scaled = scaler.transform(new_passenger_df)\n",
    "    # Predict the survival\n",
    "    survival_prediction = svm_model.predict(new_passenger_scaled)\n",
    "    # Output the prediction\n",
    "    return survival_prediction[0]  # 0 means did not survive, 1 means survived\n",
    "new_passenger = {\n",
    "    'Pclass': int(input(\"Enter Pclass (1, 2, or 3): \")),\n",
    "    'Sex': input(\"Enter Sex (male or female): \"),\n",
    "    'Age': float(input(\"Enter Age: \")),\n",
    "    'SibSp': int(input(\"Enter number of siblings/spouses aboard: \")),\n",
    "    'Parch': int(input(\"Enter number of parents/children aboard: \")),\n",
    "    'Fare': float(input(\"Enter Fare: \")),\n",
    "    'Embarked': input(\"Enter Embarked (C, Q, or S): \")\n",
    "}\n",
    "result = predict_survival(new_passenger)\n",
    "print(\"Survived\" if result == 1 else \"Did not survive\")"
   ]
  },
  {
   "cell_type": "code",
   "execution_count": null,
   "id": "4f76b116",
   "metadata": {},
   "outputs": [],
   "source": []
  }
 ],
 "metadata": {
  "kernelspec": {
   "display_name": "Python 3 (ipykernel)",
   "language": "python",
   "name": "python3"
  },
  "language_info": {
   "codemirror_mode": {
    "name": "ipython",
    "version": 3
   },
   "file_extension": ".py",
   "mimetype": "text/x-python",
   "name": "python",
   "nbconvert_exporter": "python",
   "pygments_lexer": "ipython3",
   "version": "3.11.5"
  }
 },
 "nbformat": 4,
 "nbformat_minor": 5
}
